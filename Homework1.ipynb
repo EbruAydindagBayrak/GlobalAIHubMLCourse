{
 "cells": [
  {
   "cell_type": "markdown",
   "metadata": {},
   "source": [
    "# HOMEWORK1 \n"
   ]
  },
  {
   "cell_type": "markdown",
   "metadata": {},
   "source": [
    "1) How would you define Machine Learning?\n",
    "\n",
    "Machine learning has been used both scientific and business study field to extract useful information from hidden pattern of data. Because it is not possible to analyze and process the data in very large quantities in the traditional way. For this reason, machine learning methods have been developed to analyze big data.\n"
   ]
  },
  {
   "cell_type": "markdown",
   "metadata": {},
   "source": [
    "2) What are the differences between Supervised and Unsupervised Learning? Specify example 3 algorithms for each of these.\n",
    "\n",
    "We have input and the label for analyzed data in supervised learning. On the contrary to unsupervised learning we have only input values for analyzed data. In supervised learning, we teach how computer can do but in unsupervised learning we let the computers can learn on its own.\n",
    "\n",
    "Supervised learning: Linear Regression, Naive Bayes, Support Vector Machines.\n",
    "Unsupervised learning: K-Means, Neural Networks, Principial Component Analysis.\n"
   ]
  },
  {
   "cell_type": "markdown",
   "metadata": {},
   "source": [
    "3) What are the test and validation set, and why would you want to use them?\n",
    "\n",
    "The dataset is divided as three part, training set, testing set and validation set.\n",
    "Test set is used to estimate model performance for applied machine learning algorithm.The sample of test set used to provide an unbiased evaluation of a final model fit on the training dataset.\n",
    "\n",
    "The validation set is chosen from testing set. In this section, the applied machine learning model is tried to be improved. The validation set is used to evaluate a given model, but this is for frequent evaluation.\n"
   ]
  },
  {
   "cell_type": "markdown",
   "metadata": {},
   "source": [
    "4) What are the main preprocessing steps? Explain them in detail. Why we need to prepare our data?\n",
    "\n",
    "1. Taking care of missing values in dataset\n",
    "    We may find some data are missing in the dataset. We need to be equipped to handle the problem when we come across them. We eliminates missing values in this step and filling with mean or median.\n",
    "    \n",
    "2. Outlier detection\n",
    "    Standart Deviation, Box Plots / IQR Calculation and Isolation Forest can bu used as on outlier detection model of dataset.\n",
    "    \n",
    "3. Feature scaling\n",
    "    Standadization (also called, Z-score normalization) is a scaling technique such that when it is applied the features will be rescaled so that they’ll have the properties of a standard normal distribution with mean,μ=0 and standard deviation, σ=1; where μ is the mean (average) and σ is the standard deviation from the mean.\n",
    "    Normalization (also called, Min-Max normalization) is a scaling technique such that when it is applied the features will be rescaled so that the data will fall in the range of [0,1].\n",
    "    \n",
    "4. Bucketting (Binning)\n",
    "    Data binning, bucketing is a data pre-processing method used to minimize the effects of small observation errors (noisy data). The original data values are divided into small intervals known as bins and then they are replaced by a general value calculated for that bin.\n",
    "    \n",
    "5. Feature Extraction \n",
    "    Feature extraction refers to the process of transforming raw data into numerical features that can be processed while preserving the information in the original data set. It yields better results than applying machine learning directly to the raw data. Some feature extraction methods are: \n",
    "        Principle Components Analysis (PCA)\n",
    "        Independent Component Analysis (ICA)\n",
    "        Linear Discriminant Analysisi (LDA)\n",
    "        t-distributed Stochastic Neigbour Embedding (t-SNE)\n",
    "6. Feature Encoding\n",
    "    Feature encoding is basically performing transformations on the data such that it can be easily accepted as input for machine learning algorithms while still retaining its original meaning.\n",
    "    \n",
    "7. Splitting dataset as traning set, validation set and testing set\n",
    "    Before we start deciding the algorithm which should be used, it is always advised to split the dataset into two or sometimes three parts. Machine Learning algorithms, or any algorithm for that matter, has to be first trained on the data distribution available and then validated and tested, before it can be deployed to deal with real-world data\n",
    "\n",
    "    Data preparation can be defined that the process of cleaning and transforming raw data prior to processing and analysis. In this step, we load our data into a suitable place and prepare it for use in our machine learning training. \n",
    "\n"
   ]
  },
  {
   "cell_type": "markdown",
   "metadata": {},
   "source": [
    "5) How you can explore countionus and discrete variables?\n",
    "\n",
    "Discrete variables are countable in a finite amount of time. For example, you can count the change in your pocket. You can count the money in your bank account.\n",
    "\n",
    "Continuous Variables would (literally) take forever to count. In fact, you would get to “forever” and never finish counting them.\n"
   ]
  },
  {
   "cell_type": "markdown",
   "metadata": {},
   "source": [
    "6) Analyse the plot given below. (What is the plot and variable type, check the distribution and make comment about how you can preproccess it.)\n",
    "\n",
    "The type of plot is histogram and data type is numerical variable. Histogram is used to visualize for the distribution of numerical variable. \n",
    "\n",
    "We can observe the distribution of our columns through distplot (sns.displot() ) which shows that follow a normal distribution."
   ]
  },
  {
   "cell_type": "code",
   "execution_count": null,
   "metadata": {},
   "outputs": [],
   "source": []
  }
 ],
 "metadata": {
  "kernelspec": {
   "display_name": "Python 3",
   "language": "python",
   "name": "python3"
  },
  "language_info": {
   "codemirror_mode": {
    "name": "ipython",
    "version": 3
   },
   "file_extension": ".py",
   "mimetype": "text/x-python",
   "name": "python",
   "nbconvert_exporter": "python",
   "pygments_lexer": "ipython3",
   "version": "3.7.3"
  }
 },
 "nbformat": 4,
 "nbformat_minor": 2
}
